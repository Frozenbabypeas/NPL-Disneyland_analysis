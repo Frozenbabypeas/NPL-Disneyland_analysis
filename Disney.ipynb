{
 "cells": [
  {
   "cell_type": "code",
   "execution_count": 109,
   "id": "cd452cd9",
   "metadata": {},
   "outputs": [],
   "source": [
    "import numpy as np\n",
    "import pandas as pd\n",
    "import matplotlib.pyplot as plt\n",
    "\n",
    "# spacy for categorising words\n",
    "import spacy\n",
    "# make sure you download the below via console\n",
    "# python -m spacy download en_core_web_sm\n",
    "\n",
    "# text sentiment\n",
    "from textblob import TextBlob\n",
    "from textblob.sentiments import NaiveBayesAnalyzer"
   ]
  },
  {
   "cell_type": "code",
   "execution_count": 8,
   "id": "cfa69877",
   "metadata": {},
   "outputs": [],
   "source": [
    "df = pd.read_csv('DisneylandReviews.csv', encoding = 'latin-1' )"
   ]
  },
  {
   "cell_type": "code",
   "execution_count": 99,
   "id": "1920e401",
   "metadata": {},
   "outputs": [],
   "source": [
    "# average rating by branch\n",
    "df_branch_rating = df.groupby('Branch')['Rating'].mean().astype(int).reset_index().rename(columns = {'Rating' : 'Average_Rating'})\n",
    "\n",
    "# number of reviews between branch\n",
    "df_branch_reviews = df.groupby('Branch')['Review_Text'].count().reset_index().rename(columns = {'Review_Text' : 'Number_of_Reviews'})\n",
    "\n",
    "# total number of reviews\n",
    "t_count = df['Review_ID'].count()\n",
    "df_branch_weight = (df.groupby('Branch')['Review_Text'].count()/t_count*100).astype(int).reset_index().rename(columns = {'Review_Text' : 'Percent_of_Total'})"
   ]
  },
  {
   "cell_type": "code",
   "execution_count": 104,
   "id": "0d6608e4",
   "metadata": {
    "extensions": {
     "jupyter_dashboards": {
      "version": 1,
      "views": {
       "grid_default": {},
       "report_default": {}
      }
     }
    }
   },
   "outputs": [
    {
     "data": {
      "text/html": [
       "<div>\n",
       "<style scoped>\n",
       "    .dataframe tbody tr th:only-of-type {\n",
       "        vertical-align: middle;\n",
       "    }\n",
       "\n",
       "    .dataframe tbody tr th {\n",
       "        vertical-align: top;\n",
       "    }\n",
       "\n",
       "    .dataframe thead th {\n",
       "        text-align: right;\n",
       "    }\n",
       "</style>\n",
       "<table border=\"1\" class=\"dataframe\">\n",
       "  <thead>\n",
       "    <tr style=\"text-align: right;\">\n",
       "      <th></th>\n",
       "      <th>Branch</th>\n",
       "      <th>Number_of_Reviews</th>\n",
       "      <th>Percent_of_Total</th>\n",
       "      <th>Average_Rating</th>\n",
       "    </tr>\n",
       "  </thead>\n",
       "  <tbody>\n",
       "    <tr>\n",
       "      <th>0</th>\n",
       "      <td>Disneyland_California</td>\n",
       "      <td>19406</td>\n",
       "      <td>45</td>\n",
       "      <td>4</td>\n",
       "    </tr>\n",
       "    <tr>\n",
       "      <th>1</th>\n",
       "      <td>Disneyland_HongKong</td>\n",
       "      <td>9620</td>\n",
       "      <td>22</td>\n",
       "      <td>4</td>\n",
       "    </tr>\n",
       "    <tr>\n",
       "      <th>2</th>\n",
       "      <td>Disneyland_Paris</td>\n",
       "      <td>13630</td>\n",
       "      <td>31</td>\n",
       "      <td>3</td>\n",
       "    </tr>\n",
       "  </tbody>\n",
       "</table>\n",
       "</div>"
      ],
      "text/plain": [
       "                  Branch  Number_of_Reviews  Percent_of_Total  Average_Rating\n",
       "0  Disneyland_California              19406                45               4\n",
       "1    Disneyland_HongKong               9620                22               4\n",
       "2       Disneyland_Paris              13630                31               3"
      ]
     },
     "execution_count": 104,
     "metadata": {},
     "output_type": "execute_result"
    }
   ],
   "source": [
    "# merge findings\n",
    "df1 = pd.merge(pd.merge(df_branch_reviews, df_branch_weight, on = ['Branch']), df_branch_rating, on = ['Branch'])\n",
    "\n",
    "# plot findings\n",
    "x = df1['Number_of_Reviews']\n",
    "y = df1['Branch']\n",
    "ap = df1['Percent_of_Total']\n",
    "\n",
    "fig, ax = plt.subplots(figsize = (8,8))\n",
    "ax.bar(y, x, label = 'Number of Reviews')\n",
    "ax.legend()\n",
    "plt.show()\n",
    "\n",
    "# We can see that the majority of reviews are done in California while the least are in Paris.\n",
    "# Both California and Hong Kong have a good Average Rating whereas Paris is the lowest, even though there are more reviews in Paris than in Hong Kong..\n",
    "# Will this mean that our customers in Paris don't appreciate the attraction more than the other resort ?"
   ]
  },
  {
   "cell_type": "code",
   "execution_count": 189,
   "id": "e48f9d5f",
   "metadata": {},
   "outputs": [
    {
     "data": {
      "image/png": "[encoded data removed]",
      "text/plain": [
       "<Figure size 576x576 with 1 Axes>"
      ]
     },
     "metadata": {
      "needs_background": "light"
     },
     "output_type": "display_data"
    }
   ],
   "source": []
  },
  {
   "cell_type": "code",
   "execution_count": 91,
   "id": "7e4b2afc",
   "metadata": {},
   "outputs": [],
   "source": [
    "# convert reviews into an array of sentences\n",
    "my_reviews = df['Review_Text'].squeeze()\n",
    "\n",
    "# get a sentiment rough value using textblob\n",
    "sentiment = []\n",
    "for i in my_reviews:\n",
    "    blob = TextBlob(i)\n",
    "    sentiment.append(blob.sentiment.polarity)\n",
    "    \n",
    "df['sentiment'] = sentiment # add into our data frame"
   ]
  },
  {
   "cell_type": "code",
   "execution_count": 93,
   "id": "618c8773",
   "metadata": {},
   "outputs": [],
   "source": [
    "# split our reviews between high and low\n",
    "low_reviews = df[df['Rating'] <=4].squeeze() \n",
    "high_reviews = df[df['Rating'] >4].squeeze()"
   ]
  },
  {
   "cell_type": "code",
   "execution_count": 94,
   "id": "368a5f95",
   "metadata": {},
   "outputs": [
    {
     "data": {
      "image/png": "[encoded data removed]",
      "text/plain": [
       "<Figure size 432x288 with 1 Axes>"
      ]
     },
     "metadata": {
      "needs_background": "light"
     },
     "output_type": "display_data"
    }
   ],
   "source": [
    "# compare my ratings with my sentiment in a dataframe and look for differences\n",
    "x1 = low_reviews['sentiment']\n",
    "x2 = high_reviews['sentiment']\n",
    "\n",
    "fig, ax = plt.subplots()\n",
    "ax.hist(x1, alpha = 0.6, label = 'Low reviews')\n",
    "ax.hist(x2, alpha = 0.6, label = 'High Reviews')\n",
    "ax.legend()\n",
    "plt.show()\n",
    "\n",
    "# we can see that there are high reviews with negative sentiments and low reviews with positive sentiments.\n",
    "# what this means is that there are elements in the review that were good and elements that were bad.\n",
    "# lets isolate the sentences to identify the good and bad values."
   ]
  },
  {
   "cell_type": "code",
   "execution_count": 112,
   "id": "447ee7bc",
   "metadata": {},
   "outputs": [],
   "source": [
    "# seperate the sentences in reviews from our low review list\n",
    "nlp = spacy.load(\"en_core_web_sm\") # load spacey\n",
    "\n",
    "sentences = [] # list my sentences in a review\n",
    "for i in range(len(low_reviews['Review_Text'])):\n",
    "    doc = nlp(low_reviews['Review_Text'].iloc[i])\n",
    "    for sent in doc.sents:\n",
    "        sentences.append(sent.text)\n",
    "\n",
    "# sentence sentiment analysis\n",
    "sentiment = []\n",
    "for i in sentences:\n",
    "    blob = TextBlob(i)\n",
    "    sentiment.append(blob.sentiment.polarity)"
   ]
  },
  {
   "cell_type": "code",
   "execution_count": 116,
   "id": "b2884ff9",
   "metadata": {},
   "outputs": [],
   "source": [
    "# create dataframe with sentences, thier sentiment and the rating they scored\n",
    "# we will need our columns\n",
    "value = sentiment # sentiment value\n",
    "review = sentences # sentence\n",
    "\n",
    "# we will need a dataframe\n",
    "df2 = pd.DataFrame(\n",
    "    {'sentiment_value': value,\n",
    "    'sentence' : review})\n",
    "\n",
    "dfgb = df2[df2['sentiment_value'] == 1] # find the good in the bad\n",
    "dfbb = df2[df2['sentiment_value'] == -1] # find the bad in the bad"
   ]
  },
  {
   "cell_type": "code",
   "execution_count": 123,
   "id": "947fb925",
   "metadata": {},
   "outputs": [
    {
     "data": {
      "text/plain": [
       "10.041004613018965"
      ]
     },
     "execution_count": 123,
     "metadata": {},
     "output_type": "execute_result"
    }
   ],
   "source": [
    "# out of all our poor reviews, 10% of our clients had something positive to say.\n",
    "(len(dfgb)/len(low_reviews['Rating']))*100"
   ]
  },
  {
   "cell_type": "code",
   "execution_count": 125,
   "id": "aa8df20d",
   "metadata": {},
   "outputs": [
    {
     "data": {
      "text/plain": [
       "4.756535110199898"
      ]
     },
     "execution_count": 125,
     "metadata": {},
     "output_type": "execute_result"
    }
   ],
   "source": [
    "# out of all our poor reviews, 4.7% of our clients had the worst things to say.\n",
    "(len(dfbb)/len(low_reviews['Rating']))*100"
   ]
  },
  {
   "cell_type": "code",
   "execution_count": 195,
   "id": "82ceda15",
   "metadata": {},
   "outputs": [],
   "source": [
    "# I want to identify the nouns being used by the positve sentences and label them\n",
    "# Then, I want to list our entities\n",
    "nlp = spacy.load(\"en_core_web_sm\")\n",
    "important_word = []\n",
    "important_label = []\n",
    "\n",
    "for i in range(len(dfgb['sentence'])):\n",
    "    doc = nlp(dfgb['sentence'].iloc[i])\n",
    "    for ent in doc.ents:\n",
    "        important_word.append(ent.text)\n",
    "        important_label.append(ent.label_)\n",
    "        \n",
    "# we will do the same for our reviews that had a negative experience - i've labelled as unimportant but they should still be useful\n",
    "unimportant_word = []\n",
    "unimportant_label = []\n",
    "\n",
    "for i in range(len(dfbb['sentence'])):\n",
    "    doc = nlp(dfbb['sentence'].iloc[i])\n",
    "    for ent in doc.ents:\n",
    "        unimportant_word.append(ent.text)\n",
    "        unimportant_label.append(ent.label_)"
   ]
  },
  {
   "cell_type": "code",
   "execution_count": 196,
   "id": "ba6ee62b",
   "metadata": {},
   "outputs": [
    {
     "data": {
      "text/html": [
       "<div>\n",
       "<style scoped>\n",
       "    .dataframe tbody tr th:only-of-type {\n",
       "        vertical-align: middle;\n",
       "    }\n",
       "\n",
       "    .dataframe tbody tr th {\n",
       "        vertical-align: top;\n",
       "    }\n",
       "\n",
       "    .dataframe thead th {\n",
       "        text-align: right;\n",
       "    }\n",
       "</style>\n",
       "<table border=\"1\" class=\"dataframe\">\n",
       "  <thead>\n",
       "    <tr style=\"text-align: right;\">\n",
       "      <th></th>\n",
       "      <th>word</th>\n",
       "      <th>label</th>\n",
       "    </tr>\n",
       "  </thead>\n",
       "  <tbody>\n",
       "    <tr>\n",
       "      <th>0</th>\n",
       "      <td>Disney Hollywood Hotel</td>\n",
       "      <td>FAC</td>\n",
       "    </tr>\n",
       "    <tr>\n",
       "      <th>1</th>\n",
       "      <td>120</td>\n",
       "      <td>MONEY</td>\n",
       "    </tr>\n",
       "    <tr>\n",
       "      <th>2</th>\n",
       "      <td>55</td>\n",
       "      <td>MONEY</td>\n",
       "    </tr>\n",
       "    <tr>\n",
       "      <th>3</th>\n",
       "      <td>45</td>\n",
       "      <td>CARDINAL</td>\n",
       "    </tr>\n",
       "    <tr>\n",
       "      <th>4</th>\n",
       "      <td>Dole Whip</td>\n",
       "      <td>PERSON</td>\n",
       "    </tr>\n",
       "    <tr>\n",
       "      <th>...</th>\n",
       "      <td>...</td>\n",
       "      <td>...</td>\n",
       "    </tr>\n",
       "    <tr>\n",
       "      <th>378</th>\n",
       "      <td>Disney</td>\n",
       "      <td>ORG</td>\n",
       "    </tr>\n",
       "    <tr>\n",
       "      <th>379</th>\n",
       "      <td>Disney</td>\n",
       "      <td>ORG</td>\n",
       "    </tr>\n",
       "    <tr>\n",
       "      <th>380</th>\n",
       "      <td>Disney</td>\n",
       "      <td>ORG</td>\n",
       "    </tr>\n",
       "    <tr>\n",
       "      <th>381</th>\n",
       "      <td>Charles De Gaulle</td>\n",
       "      <td>PERSON</td>\n",
       "    </tr>\n",
       "    <tr>\n",
       "      <th>382</th>\n",
       "      <td>1</td>\n",
       "      <td>CARDINAL</td>\n",
       "    </tr>\n",
       "  </tbody>\n",
       "</table>\n",
       "<p>383 rows × 2 columns</p>\n",
       "</div>"
      ],
      "text/plain": [
       "                       word     label\n",
       "0    Disney Hollywood Hotel       FAC\n",
       "1                       120     MONEY\n",
       "2                        55     MONEY\n",
       "3                        45  CARDINAL\n",
       "4                 Dole Whip    PERSON\n",
       "..                      ...       ...\n",
       "378                  Disney       ORG\n",
       "379                  Disney       ORG\n",
       "380                  Disney       ORG\n",
       "381       Charles De Gaulle    PERSON\n",
       "382                       1  CARDINAL\n",
       "\n",
       "[383 rows x 2 columns]"
      ]
     },
     "execution_count": 196,
     "metadata": {},
     "output_type": "execute_result"
    }
   ],
   "source": [
    "# making a dataframe for the table of words\n",
    "important_info = pd.DataFrame({'word' : important_word, 'label': important_label})\n",
    "unimportant_info = pd.DataFrame({'word' : unimportant_word, 'label': unimportant_label})\n",
    "unimportant_info"
   ]
  },
  {
   "cell_type": "code",
   "execution_count": 214,
   "id": "b32b7c32",
   "metadata": {},
   "outputs": [
    {
     "data": {
      "text/html": [
       "<div>\n",
       "<style scoped>\n",
       "    .dataframe tbody tr th:only-of-type {\n",
       "        vertical-align: middle;\n",
       "    }\n",
       "\n",
       "    .dataframe tbody tr th {\n",
       "        vertical-align: top;\n",
       "    }\n",
       "\n",
       "    .dataframe thead th {\n",
       "        text-align: right;\n",
       "    }\n",
       "</style>\n",
       "<table border=\"1\" class=\"dataframe\">\n",
       "  <thead>\n",
       "    <tr style=\"text-align: right;\">\n",
       "      <th></th>\n",
       "      <th>word</th>\n",
       "    </tr>\n",
       "    <tr>\n",
       "      <th>label</th>\n",
       "      <th></th>\n",
       "    </tr>\n",
       "  </thead>\n",
       "  <tbody>\n",
       "    <tr>\n",
       "      <th>ORG</th>\n",
       "      <td>89</td>\n",
       "    </tr>\n",
       "    <tr>\n",
       "      <th>DATE</th>\n",
       "      <td>59</td>\n",
       "    </tr>\n",
       "    <tr>\n",
       "      <th>CARDINAL</th>\n",
       "      <td>57</td>\n",
       "    </tr>\n",
       "    <tr>\n",
       "      <th>FAC</th>\n",
       "      <td>45</td>\n",
       "    </tr>\n",
       "    <tr>\n",
       "      <th>TIME</th>\n",
       "      <td>36</td>\n",
       "    </tr>\n",
       "    <tr>\n",
       "      <th>PERSON</th>\n",
       "      <td>33</td>\n",
       "    </tr>\n",
       "    <tr>\n",
       "      <th>GPE</th>\n",
       "      <td>30</td>\n",
       "    </tr>\n",
       "    <tr>\n",
       "      <th>MONEY</th>\n",
       "      <td>12</td>\n",
       "    </tr>\n",
       "    <tr>\n",
       "      <th>LOC</th>\n",
       "      <td>11</td>\n",
       "    </tr>\n",
       "    <tr>\n",
       "      <th>ORDINAL</th>\n",
       "      <td>4</td>\n",
       "    </tr>\n",
       "  </tbody>\n",
       "</table>\n",
       "</div>"
      ],
      "text/plain": [
       "          word\n",
       "label         \n",
       "ORG         89\n",
       "DATE        59\n",
       "CARDINAL    57\n",
       "FAC         45\n",
       "TIME        36\n",
       "PERSON      33\n",
       "GPE         30\n",
       "MONEY       12\n",
       "LOC         11\n",
       "ORDINAL      4"
      ]
     },
     "execution_count": 214,
     "metadata": {},
     "output_type": "execute_result"
    }
   ],
   "source": [
    "# identify top 10 labels\n",
    "important_info.groupby('label').count().sort_values('word', ascending = False).head(10)\n",
    "unimportant_info.groupby('label').count().sort_values('word', ascending = False).head(10)"
   ]
  },
  {
   "cell_type": "code",
   "execution_count": 220,
   "id": "8bf51aa3",
   "metadata": {},
   "outputs": [
    {
     "data": {
      "text/html": [
       "<div>\n",
       "<style scoped>\n",
       "    .dataframe tbody tr th:only-of-type {\n",
       "        vertical-align: middle;\n",
       "    }\n",
       "\n",
       "    .dataframe tbody tr th {\n",
       "        vertical-align: top;\n",
       "    }\n",
       "\n",
       "    .dataframe thead th {\n",
       "        text-align: right;\n",
       "    }\n",
       "</style>\n",
       "<table border=\"1\" class=\"dataframe\">\n",
       "  <thead>\n",
       "    <tr style=\"text-align: right;\">\n",
       "      <th></th>\n",
       "      <th>word</th>\n",
       "      <th>label</th>\n",
       "    </tr>\n",
       "  </thead>\n",
       "  <tbody>\n",
       "    <tr>\n",
       "      <th>5</th>\n",
       "      <td>HK Disney</td>\n",
       "      <td>ORG</td>\n",
       "    </tr>\n",
       "    <tr>\n",
       "      <th>7</th>\n",
       "      <td>HK Disney</td>\n",
       "      <td>ORG</td>\n",
       "    </tr>\n",
       "    <tr>\n",
       "      <th>8</th>\n",
       "      <td>The HK Disney</td>\n",
       "      <td>ORG</td>\n",
       "    </tr>\n",
       "    <tr>\n",
       "      <th>13</th>\n",
       "      <td>Tarzan</td>\n",
       "      <td>ORG</td>\n",
       "    </tr>\n",
       "    <tr>\n",
       "      <th>16</th>\n",
       "      <td>Disney</td>\n",
       "      <td>ORG</td>\n",
       "    </tr>\n",
       "    <tr>\n",
       "      <th>21</th>\n",
       "      <td>HKD</td>\n",
       "      <td>ORG</td>\n",
       "    </tr>\n",
       "    <tr>\n",
       "      <th>22</th>\n",
       "      <td>HKD</td>\n",
       "      <td>ORG</td>\n",
       "    </tr>\n",
       "    <tr>\n",
       "      <th>23</th>\n",
       "      <td>Beverage</td>\n",
       "      <td>ORG</td>\n",
       "    </tr>\n",
       "    <tr>\n",
       "      <th>27</th>\n",
       "      <td>Disney</td>\n",
       "      <td>ORG</td>\n",
       "    </tr>\n",
       "    <tr>\n",
       "      <th>34</th>\n",
       "      <td>HK Disney</td>\n",
       "      <td>ORG</td>\n",
       "    </tr>\n",
       "  </tbody>\n",
       "</table>\n",
       "</div>"
      ],
      "text/plain": [
       "             word label\n",
       "5       HK Disney   ORG\n",
       "7       HK Disney   ORG\n",
       "8   The HK Disney   ORG\n",
       "13         Tarzan   ORG\n",
       "16         Disney   ORG\n",
       "21            HKD   ORG\n",
       "22            HKD   ORG\n",
       "23       Beverage   ORG\n",
       "27         Disney   ORG\n",
       "34      HK Disney   ORG"
      ]
     },
     "execution_count": 220,
     "metadata": {},
     "output_type": "execute_result"
    }
   ],
   "source": [
    "# We can see that there is an issue.  I've looked through the ones and identified which ones to dig into.\n",
    "unimportant_info[unimportant_info.label.isin(['LOC'])].head(10) # europe and carribean ranked highest.  The carribean attraction should be looked at\n",
    "unimportant_info[unimportant_info.label.isin(['ORG'])].head(10) # HK Disney ranked highest.  Chances are they had a terrible experience here."
   ]
  },
  {
   "cell_type": "code",
   "execution_count": 223,
   "id": "6894e53e",
   "metadata": {},
   "outputs": [
    {
     "data": {
      "text/html": [
       "<div>\n",
       "<style scoped>\n",
       "    .dataframe tbody tr th:only-of-type {\n",
       "        vertical-align: middle;\n",
       "    }\n",
       "\n",
       "    .dataframe tbody tr th {\n",
       "        vertical-align: top;\n",
       "    }\n",
       "\n",
       "    .dataframe thead th {\n",
       "        text-align: right;\n",
       "    }\n",
       "</style>\n",
       "<table border=\"1\" class=\"dataframe\">\n",
       "  <thead>\n",
       "    <tr style=\"text-align: right;\">\n",
       "      <th></th>\n",
       "      <th>word</th>\n",
       "      <th>label</th>\n",
       "    </tr>\n",
       "  </thead>\n",
       "  <tbody>\n",
       "    <tr>\n",
       "      <th>11</th>\n",
       "      <td>two</td>\n",
       "      <td>CARDINAL</td>\n",
       "    </tr>\n",
       "    <tr>\n",
       "      <th>30</th>\n",
       "      <td>3</td>\n",
       "      <td>CARDINAL</td>\n",
       "    </tr>\n",
       "    <tr>\n",
       "      <th>31</th>\n",
       "      <td>1</td>\n",
       "      <td>CARDINAL</td>\n",
       "    </tr>\n",
       "    <tr>\n",
       "      <th>40</th>\n",
       "      <td>3.70</td>\n",
       "      <td>CARDINAL</td>\n",
       "    </tr>\n",
       "    <tr>\n",
       "      <th>43</th>\n",
       "      <td>4.50</td>\n",
       "      <td>CARDINAL</td>\n",
       "    </tr>\n",
       "    <tr>\n",
       "      <th>53</th>\n",
       "      <td>over a million</td>\n",
       "      <td>CARDINAL</td>\n",
       "    </tr>\n",
       "    <tr>\n",
       "      <th>59</th>\n",
       "      <td>one</td>\n",
       "      <td>CARDINAL</td>\n",
       "    </tr>\n",
       "    <tr>\n",
       "      <th>64</th>\n",
       "      <td>10 13</td>\n",
       "      <td>CARDINAL</td>\n",
       "    </tr>\n",
       "    <tr>\n",
       "      <th>103</th>\n",
       "      <td>2</td>\n",
       "      <td>CARDINAL</td>\n",
       "    </tr>\n",
       "    <tr>\n",
       "      <th>109</th>\n",
       "      <td>one</td>\n",
       "      <td>CARDINAL</td>\n",
       "    </tr>\n",
       "  </tbody>\n",
       "</table>\n",
       "</div>"
      ],
      "text/plain": [
       "               word     label\n",
       "11              two  CARDINAL\n",
       "30                3  CARDINAL\n",
       "31                1  CARDINAL\n",
       "40             3.70  CARDINAL\n",
       "43             4.50  CARDINAL\n",
       "53   over a million  CARDINAL\n",
       "59              one  CARDINAL\n",
       "64            10 13  CARDINAL\n",
       "103               2  CARDINAL\n",
       "109             one  CARDINAL"
      ]
     },
     "execution_count": 223,
     "metadata": {},
     "output_type": "execute_result"
    }
   ],
   "source": [
    "# Now lets do the same thing with highest positive sentiment in our low scored reveiews.\n",
    "important_info[important_info.label.isin(['LOC'])].head(10) # people loved Space Mountain!\n",
    "important_info[important_info.label.isin(['GPE'])].head(10) # HK Disney ranked highest.  Odd that they ranked highest in positive and negative sentiments\n",
    "important_info[important_info.label.isin(['ORG'])].head(10) # Nothing spectacular"
   ]
  }
 ],
 "metadata": {
  "celltoolbar": "Raw Cell Format",
  "extensions": {
   "jupyter_dashboards": {
    "activeView": "grid_default",
    "version": 1,
    "views": {
     "grid_default": {
      "cellMargin": 10,
      "defaultCellHeight": 20,
      "maxColumns": 12,
      "name": "grid",
      "type": "grid"
     },
     "report_default": {
      "name": "report",
      "type": "report"
     }
    }
   }
  },
  "kernelspec": {
   "display_name": "Python 3 (ipykernel)",
   "language": "python",
   "name": "python3"
  },
  "language_info": {
   "codemirror_mode": {
    "name": "ipython",
    "version": 3
   },
   "file_extension": ".py",
   "mimetype": "text/x-python",
   "name": "python",
   "nbconvert_exporter": "python",
   "pygments_lexer": "ipython3",
   "version": "3.9.6"
  }
 },
 "nbformat": 4,
 "nbformat_minor": 5
}
